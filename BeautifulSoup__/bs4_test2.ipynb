{
 "cells": [
  {
   "cell_type": "code",
   "execution_count": 1,
   "source": [
    "from bs4 import BeautifulSoup\n",
    "import requests"
   ],
   "outputs": [],
   "metadata": {}
  },
  {
   "cell_type": "code",
   "execution_count": 5,
   "source": [
    "source = requests.get('https://www.whiskyshop.com/scotch-whisky?p=18').text\n",
    "soup = BeautifulSoup(source, 'lxml')"
   ],
   "outputs": [],
   "metadata": {}
  },
  {
   "cell_type": "markdown",
   "source": [
    "https://www.whiskyshop.com/robots.txt muestra que cosas no admite"
   ],
   "metadata": {}
  },
  {
   "cell_type": "code",
   "execution_count": 6,
   "source": [
    "for producto in soup.find_all('div', class_='product-item-info'):\n",
    "    name= producto.find('a', class_='product photo product-item-photo')['data-name']\n",
    "    price=producto.find('a', class_='product photo product-item-photo')['data-price']\n",
    "    category = producto.find('a', class_='product photo product-item-photo')['data-category']\n",
    "    link=producto.find('a', class_='product photo product-item-photo').get('href')\n",
    "    print(f'{name=} | {price=} | {category=} | {link=}')\n",
    "\n"
   ],
   "outputs": [
    {
     "output_type": "stream",
     "name": "stdout",
     "text": [
      "name='Deanston 40 Year Old' | price='1100' | category='Scotch Whisky' | link='https://www.whiskyshop.com/deanston-40-year-old'\n",
      "name='Port Charlotte 10 Year Old 2nd Limited Edition' | price='63' | category='Scotch Whisky' | link='https://www.whiskyshop.com/port-charlotte-10-year-old-2nd-limited-edition'\n",
      "name=\"Glenlossie 18 Year Old Distiller's Art\" | price='120' | category='Scotch Whisky' | link='https://www.whiskyshop.com/glenlossie-18-year-old-distiller-s-art'\n",
      "name=\"Glendullan 1995 Managers' Choice\" | price='245' | category='Scotch Whisky' | link='https://www.whiskyshop.com/glendullan-1995-managers-choice'\n",
      "name='Talisker 30 year old ' | price='350' | category='Scotch Whisky' | link='https://www.whiskyshop.com/talisker-30-year-old'\n",
      "name='Lagavulin Distillers Edition 2019' | price='93.95' | category='Scotch Whisky' | link='https://www.whiskyshop.com/lagavulin-distillers-edition'\n",
      "name='Glenfarclas 105 & Mini Gift Pack' | price='66' | category='Scotch Whisky' | link='https://www.whiskyshop.com/glenfarclas-105-mini-gift-pack'\n",
      "name='Glen Garioch 1986 ' | price='210' | category='Scotch Whisky' | link='https://www.whiskyshop.com/glen-garioch-1986'\n",
      "name='Auchroisk 25 Year Old 2016 Special Release' | price='285' | category='Scotch Whisky' | link='https://www.whiskyshop.com/auchroisk-25-year-old'\n",
      "name='Fettercairn 30 year old ' | price='310' | category='Scotch Whisky' | link='https://www.whiskyshop.com/fettercairn-30-year-old'\n",
      "name='Dailuaine 16 Year Old' | price='55.9' | category='Scotch Whisky' | link='https://www.whiskyshop.com/dailuaine-16-year-old'\n",
      "name='Craigellachie 17 year old' | price='100' | category='Scotch Whisky' | link='https://www.whiskyshop.com/craigellachie-17-year-old'\n",
      "name='Cameron Brig ' | price='35' | category='Scotch Whisky' | link='https://www.whiskyshop.com/cameron-brig'\n",
      "name='anCnoc 22 year old' | price='84.99' | category='Scotch Whisky' | link='https://www.whiskyshop.com/ancnoc-22-year-old'\n",
      "name='Old Malt Cask Glen Spey 15 Year Old' | price='95' | category='Scotch Whisky' | link='https://www.whiskyshop.com/old-malt-cask-glen-spey-15-year-old'\n",
      "name='Old Malt Cask Ardmore 20 Year Old' | price='130' | category='Scotch Whisky' | link='https://www.whiskyshop.com/old-malt-cask-ardmore-20-year-old'\n",
      "name='First Editions Glen Moray 2007' | price='64' | category='Scotch Whisky' | link='https://www.whiskyshop.com/first-editions-glen-moray-2007'\n",
      "name='Teaninich 17 Year Old 2017 Special Release' | price='275' | category='Scotch Whisky' | link='https://www.whiskyshop.com/teaninich-17-year-old-2017-special-release'\n",
      "name='Glen Elgin 18 Year Old 2017 Special Release' | price='300' | category='Scotch Whisky' | link='https://www.whiskyshop.com/glen-elgin-18-year-old-2017-special-release'\n",
      "name='Scapa Skiren' | price='45' | category='Scotch Whisky' | link='https://www.whiskyshop.com/scapa-skiren'\n",
      "name='Glen Keith 21 Year Old Platinum Old & Rare' | price='205' | category='Scotch Whisky' | link='https://www.whiskyshop.com/glen-keith-21-year-old-platinum-old-rare'\n",
      "name='Ardmore Legacy' | price='33' | category='Scotch Whisky' | link='https://www.whiskyshop.com/ardmore-legacy'\n",
      "name='Springbank 1992 21 Year Old' | price='220' | category='Scotch Whisky' | link='https://www.whiskyshop.com/springbank-1992-21-year-old'\n",
      "name='Dalmore Constellation 1966 cask 7' | price='23329' | category='Scotch Whisky' | link='https://www.whiskyshop.com/dalmore-constellation-1966-cask-7'\n",
      "name='Port Charlotte Scottish Barley' | price='55' | category='Scotch Whisky' | link='https://www.whiskyshop.com/port-charlotte-scottish-barley'\n",
      "name='Old Pulteney 17 Year Old' | price='89.95' | category='Scotch Whisky' | link='https://www.whiskyshop.com/old-pulteney-17-year-old'\n",
      "name='Jura 21 Year Old' | price='125' | category='Scotch Whisky' | link='https://www.whiskyshop.com/isle-of-jura-21-year-old'\n",
      "name='Glenlossie 18 year old Old Malt Cask' | price='90' | category='Scotch Whisky' | link='https://www.whiskyshop.com/old-malt-cask-glenlossie-18-year-old'\n",
      "name='Glenfiddich 14 Year Old Rich Oak' | price='48' | category='Scotch Whisky' | link='https://www.whiskyshop.com/glenfiddich-14-year-old-rich-oak'\n",
      "name='Glenfarclas 10 Year Old' | price='45' | category='Scotch Whisky' | link='https://www.whiskyshop.com/glenfarclas-10-year-old'\n",
      "name='Port Ellen 37 Year Old' | price='2500' | category='Scotch Whisky' | link='https://www.whiskyshop.com/port-ellen-37-year-old'\n",
      "name='Mannochmore 25 Year Old 2016 Special Release' | price='250' | category='Scotch Whisky' | link='https://www.whiskyshop.com/mannochmore-25-year-old-2016-special-release'\n",
      "name='Glen Garioch 1978 ' | price='425' | category='Scotch Whisky' | link='https://www.whiskyshop.com/glen-garioch-1978'\n",
      "name='Brora 38 Year Old 2016 Special Release ' | price='1750' | category='Scotch Whisky' | link='https://www.whiskyshop.com/brora-38-year-old'\n",
      "name='Old Malt Cask Glenallachie 21 Year Old' | price='149' | category='Scotch Whisky' | link='https://www.whiskyshop.com/old-malt-cask-glenallachie-21-year-old'\n",
      "name='The Loch Fyne Craigellachie 10 Year Old' | price='65' | category='Scotch Whisky' | link='https://www.whiskyshop.com/the-loch-fyne-craigellachie-10-year-old-2006'\n",
      "name='Balblair 1990 ' | price='125' | category='Scotch Whisky' | link='https://www.whiskyshop.com/balblair-1990'\n",
      "name='Glen Elgin 1998 Managers Choice' | price='295' | category='Scotch Whisky' | link='https://www.whiskyshop.com/glen-elgin-1998-managers-choice'\n",
      "name='Mortlach Rare Old' | price='42' | category='Scotch Whisky' | link='https://www.whiskyshop.com/mortlach-rare-old'\n",
      "name='BenRiach 10 Year Old ' | price='40' | category='Scotch Whisky' | link='https://www.whiskyshop.com/benriach-10-year-old'\n",
      "name='Dalmore Constellation 1964 cask 9' | price='46170' | category='Scotch Whisky' | link='https://www.whiskyshop.com/dalmore-constellation-1964-cask-9'\n",
      "name='Strathisla 12 Year Old' | price='29.95' | category='Scotch Whisky' | link='https://www.whiskyshop.com/strathisla-12-year-old'\n",
      "name='Singleton of Dufftown 12 Year Old' | price='34.99' | category='Scotch Whisky' | link='https://www.whiskyshop.com/singleton-of-dufftown-12-year-old'\n",
      "name='McClellands Speyside Single Malt ' | price='30' | category='Scotch Whisky' | link='https://www.whiskyshop.com/mcclellands-speyside-single-malt'\n",
      "name='Kilchoman 100% Islay ' | price='78' | category='Scotch Whisky' | link='https://www.whiskyshop.com/kilchoman-100-islay'\n",
      "name='Highland Park Dark Origins' | price='72' | category='Scotch Whisky' | link='https://www.whiskyshop.com/highland-park-dark-origins'\n",
      "name='Glenkinchie 24 Year Old 2016 Special Release' | price='300' | category='Scotch Whisky' | link='https://www.whiskyshop.com/glenkinchie-24-year-old'\n",
      "name='Glen Garioch 12 Year Old' | price='55' | category='Scotch Whisky' | link='https://www.whiskyshop.com/glen-garioch-12-year-old'\n",
      "name='Cambus 40 Year Old 2016 Special Release' | price='750' | category='Scotch Whisky' | link='https://www.whiskyshop.com/cambus-40-year-old'\n",
      "name='Dalwhinnie 15 Year Old' | price='40.19' | category='Scotch Whisky' | link='https://www.whiskyshop.com/dalwhinnie-15-year-old'\n",
      "name='Ailsa Bay 70cl' | price='59' | category='Scotch Whisky' | link='https://www.whiskyshop.com/ailsa-bay'\n",
      "name='Caol Ila 12 Year Old' | price='37.5' | category='Scotch Whisky' | link='https://www.whiskyshop.com/caol-ila-12-year-old'\n",
      "name='Brora 35 year old 2014 Special Release' | price='1500' | category='Scotch Whisky' | link='https://www.whiskyshop.com/brora-35-year-old'\n",
      "name='Balvenie 12 Year Old DoubleWood' | price='44.95' | category='Scotch Whisky' | link='https://www.whiskyshop.com/balvenie-12-year-old-doublewood'\n",
      "name='Aultmore 12 Year Old' | price='41.95' | category='Scotch Whisky' | link='https://www.whiskyshop.com/aultmore-12-year-old'\n",
      "name='Aberfeldy 12 Year Old' | price='34' | category='Scotch Whisky' | link='https://www.whiskyshop.com/aberfeldy-12-year-old'\n"
     ]
    }
   ],
   "metadata": {}
  }
 ],
 "metadata": {
  "orig_nbformat": 4,
  "language_info": {
   "name": "python",
   "version": "3.8.8",
   "mimetype": "text/x-python",
   "codemirror_mode": {
    "name": "ipython",
    "version": 3
   },
   "pygments_lexer": "ipython3",
   "nbconvert_exporter": "python",
   "file_extension": ".py"
  },
  "kernelspec": {
   "name": "python3",
   "display_name": "Python 3.8.8 64-bit ('base': conda)"
  },
  "interpreter": {
   "hash": "b55eb655c9e5601160c1800b030fc4eed3c6bafe130da22df8e48dbd66fd2d60"
  }
 },
 "nbformat": 4,
 "nbformat_minor": 2
}