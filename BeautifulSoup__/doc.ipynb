{
 "cells": [
  {
   "cell_type": "markdown",
   "source": [
    "# Beautyful Soup"
   ],
   "metadata": {}
  },
  {
   "cell_type": "markdown",
   "source": [
    "Para instalar:\n",
    "    python -m pip install beautifulsoup4"
   ],
   "metadata": {}
  },
  {
   "cell_type": "markdown",
   "source": [
    "Librerias usadas:\n",
    "\n",
    "    beautifulsoup\n",
    "    \n",
    "    request\n",
    "    \n",
    "    html5lib\n",
    "    \n",
    "    lxml\n",
    "    "
   ],
   "metadata": {}
  },
  {
   "cell_type": "code",
   "execution_count": null,
   "source": [
    "from bs4 import BeautifulSoup"
   ],
   "outputs": [],
   "metadata": {}
  },
  {
   "cell_type": "markdown",
   "source": [
    "## Ejemplo con archivo HTML local"
   ],
   "metadata": {}
  },
  {
   "cell_type": "code",
   "execution_count": null,
   "source": [
    "with open('codigo.html') as html_file:\n",
    "    soup=BeautifulSoup(html_file,'lxml')\n",
    "    \n",
    "    print(soup.prettify())\n"
   ],
   "outputs": [],
   "metadata": {}
  },
  {
   "cell_type": "markdown",
   "source": [
    "Se pueden identificar las partes del archivo a buscar"
   ],
   "metadata": {}
  },
  {
   "cell_type": "code",
   "execution_count": null,
   "source": [
    "with open('codigo.html') as html_file:\n",
    "    soup = BeautifulSoup(html_file, 'lxml')\n",
    "    titulo=soup.title\n",
    "    print('Linea de html:',titulo)\n",
    "    print('Contenido:',titulo.text)\n"
   ],
   "outputs": [],
   "metadata": {}
  },
  {
   "cell_type": "code",
   "execution_count": null,
   "source": [
    "with open('codigo.html') as html_file:\n",
    "    soup = BeautifulSoup(html_file, 'lxml')\n",
    "    paragraph=soup.p\n",
    "    print('Linea de html:',paragraph)\n",
    "    print('Contenido:',paragraph)\n"
   ],
   "outputs": [],
   "metadata": {}
  },
  {
   "cell_type": "code",
   "execution_count": null,
   "source": [
    "with open('codigo.html') as html_file:\n",
    "    soup = BeautifulSoup(html_file, 'lxml')\n",
    "    tabla = soup.table\n",
    "    print('Linea de html:', tabla)\n"
   ],
   "outputs": [],
   "metadata": {}
  },
  {
   "cell_type": "markdown",
   "source": [
    "Pero hay que encotrar alguna forma todos los contenidos que son del mismo tipo"
   ],
   "metadata": {}
  },
  {
   "cell_type": "markdown",
   "source": [
    "Por ejemplo al intental obtener el contenido de la tabla se puede ver que solo tomara la primer fila"
   ],
   "metadata": {}
  },
  {
   "cell_type": "code",
   "execution_count": null,
   "source": [
    "with open('codigo.html') as html_file:\n",
    "    soup = BeautifulSoup(html_file, 'lxml')\n",
    "    col_Tabla=soup.tr\n",
    "    print('Fila:\\n',col_Tabla.prettify())\n",
    "    print(\"Contenido:\", col_Tabla.text)"
   ],
   "outputs": [],
   "metadata": {}
  },
  {
   "cell_type": "code",
   "execution_count": null,
   "source": [
    "with open('codigo.html') as html_file:\n",
    "    soup = BeautifulSoup(html_file, 'lxml')\n",
    "    for linea in soup.findAll('tr'):\n",
    "        print('\\nFila:\\n',linea.text)"
   ],
   "outputs": [],
   "metadata": {}
  },
  {
   "cell_type": "markdown",
   "source": [
    "## Extraccion de contenido de una pagina web"
   ],
   "metadata": {}
  },
  {
   "cell_type": "markdown",
   "source": [
    "Direccion: https://www.whiskyshop.com/scotch-whisky"
   ],
   "metadata": {}
  },
  {
   "cell_type": "code",
   "execution_count": null,
   "source": [
    "import requests"
   ],
   "outputs": [],
   "metadata": {}
  },
  {
   "cell_type": "code",
   "execution_count": null,
   "source": [
    "class Product():\n",
    "    def __init__(self, Name_:str, Price:float, Link:str)->None:\n",
    "        self.Name=Name_\n",
    "        self.Price=Price\n",
    "        self.Link=Link\n",
    "\n",
    "    def __str__(self):\n",
    "        return f'{self.Name=}, {self.Price=}, {self.Link=}'\n",
    "    def __repr__(self) -> str:\n",
    "        return f'Product({self.Name=}, {self.Price=}, {self.Link=})'\n"
   ],
   "outputs": [],
   "metadata": {}
  },
  {
   "cell_type": "markdown",
   "source": [
    "### Codigo"
   ],
   "metadata": {}
  },
  {
   "cell_type": "code",
   "execution_count": null,
   "source": [
    "source = requests.get('https://www.whiskyshop.com/scotch-whisky').text\n",
    "soup2 = BeautifulSoup(source, 'lxml')\n",
    "#print(soup2.prettify())"
   ],
   "outputs": [],
   "metadata": {}
  },
  {
   "cell_type": "code",
   "execution_count": null,
   "source": [
    "for producto in soup2.find_all('div', class_='product-item-info'):\n",
    "    try:\n",
    "        print('Producto:')\n",
    "        name = producto.find(class_=\"product-item-link\").text\n",
    "        print(f'{name=}')\n",
    "        price = producto.find('span',class_=\"price\").text\n",
    "        print(f'{price=}')\n",
    "        link = producto.find(class_=\"product-item-link\").get('href')\n",
    "        #hay varias formas de obtener el link ej: producto.div.a.get('href') o reemplazar get en ambos por ['href']\n",
    "        print(f'{link=}')\n",
    "    except Exception as ex:\n",
    "        print(ex)\n"
   ],
   "outputs": [],
   "metadata": {}
  }
 ],
 "metadata": {
  "interpreter": {
   "hash": "b55eb655c9e5601160c1800b030fc4eed3c6bafe130da22df8e48dbd66fd2d60"
  },
  "kernelspec": {
   "name": "python3",
   "display_name": "Python 3.8.8 64-bit ('base': conda)"
  },
  "language_info": {
   "codemirror_mode": {
    "name": "ipython",
    "version": 3
   },
   "file_extension": ".py",
   "mimetype": "text/x-python",
   "name": "python",
   "nbconvert_exporter": "python",
   "pygments_lexer": "ipython3",
   "version": "3.8.8"
  }
 },
 "nbformat": 4,
 "nbformat_minor": 2
}